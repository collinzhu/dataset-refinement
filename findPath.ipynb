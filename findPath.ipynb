{
 "cells": [
  {
   "cell_type": "code",
   "execution_count": 10,
   "metadata": {},
   "outputs": [
    {
     "name": "stdout",
     "output_type": "stream",
     "text": [
      "[[1, 2, 4, 6], [1, 3, 4, 6], [1, 2, 5, 7], [1, 3, 5, 7], [1, 2, 4, 8], [1, 3, 4, 8], [1, 2, 5, 9], [1, 2, 5, 6], [1, 3, 5, 6], [1, 3, 5, 9], [1, 2, 4, 7], [1, 3, 4, 7], [1, 2, 11], [1, 3, 6], [1, 2, 7], [1, 2, 6], [1, 3, 7], [1, 3, 10]]\n"
     ]
    }
   ],
   "source": [
    "def find_subsequences_of_length(data, length):\n",
    "    subsequences = []\n",
    "    for i in range(len(data)):\n",
    "        if data[i] == 1:  # Start from 1\n",
    "            subsequence = data[i:i+length]\n",
    "            if len(subsequence) == length and subsequence[-1] != 1:  # Check length and end not 1\n",
    "                subsequences.append(tuple(subsequence))  # Use tuple to ensure hashability\n",
    "    return subsequences\n",
    "\n",
    "def findUniqueSubsequences(big_dataset):\n",
    "    lengths = [3, 4]  # Define desired lengths\n",
    "    unique_subarrays = set()\n",
    "\n",
    "    for data in big_dataset:\n",
    "        for length in lengths:\n",
    "            subsequences = find_subsequences_of_length(data, length)\n",
    "            unique_subarrays.update(subsequences)\n",
    "\n",
    "    return [list(subarray) for subarray in unique_subarrays]\n",
    "\n",
    "\n",
    "\n",
    "\n",
    "\n",
    "def find_unique_subarrays(arrays):\n",
    "    # First, sort the arrays based on their lengths in descending order\n",
    "    # This ensures we first check the longest arrays when searching for subsequences\n",
    "    arrays.sort(key=len, reverse=True)\n",
    "    \n",
    "    unique_arrays = []\n",
    "\n",
    "    for i in range(len(arrays)):\n",
    "        is_subsequence = False\n",
    "        for j in range(len(arrays)):\n",
    "            if i != j and len(arrays[i]) < len(arrays[j]):\n",
    "                # Check if the shorter array is a subsequence of the longer array\n",
    "                if arrays[i] == arrays[j][:len(arrays[i])]:\n",
    "                    is_subsequence = True\n",
    "                    break\n",
    "        if not is_subsequence:\n",
    "            unique_arrays.append(arrays[i])\n",
    "\n",
    "    return unique_arrays\n",
    "\n",
    "dataset_file_path = 'big_dataset.txt'\n",
    "\n",
    "# Re-read the big dataset from the file\n",
    "with open(dataset_file_path, 'r') as file:\n",
    "    big_dataset_read = [list(map(int, line.strip().split(', '))) for line in file.readlines()]\n",
    "\n",
    "# Finding unique subarrays in the big dataset\n",
    "a = findUniqueSubsequences(big_dataset_read)\n",
    "\n",
    "b = find_unique_subarrays(a)\n",
    "\n",
    "\n",
    "# Print the found unique subarrays to verify\n",
    "print(b)\n"
   ]
  }
 ],
 "metadata": {
  "kernelspec": {
   "display_name": "Python 3",
   "language": "python",
   "name": "python3"
  },
  "language_info": {
   "codemirror_mode": {
    "name": "ipython",
    "version": 3
   },
   "file_extension": ".py",
   "mimetype": "text/x-python",
   "name": "python",
   "nbconvert_exporter": "python",
   "pygments_lexer": "ipython3",
   "version": "3.11.4"
  }
 },
 "nbformat": 4,
 "nbformat_minor": 2
}
